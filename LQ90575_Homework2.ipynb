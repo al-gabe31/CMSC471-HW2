{
 "cells": [
  {
   "attachments": {},
   "cell_type": "markdown",
   "metadata": {},
   "source": [
    "# 3.a.i - Breadth First Search"
   ]
  },
  {
   "cell_type": "code",
   "execution_count": 428,
   "metadata": {},
   "outputs": [
    {
     "name": "stdout",
     "output_type": "stream",
     "text": [
      "SOLUTION PATH\n",
      "State #1: [3, 1]\n",
      "State #2: [3, 0]\n",
      "State #3: [2, 1]\n",
      "State #4: [2, 0]\n",
      "State #5: [1, 1]\n",
      "\n",
      "ALGO COST = 16\n",
      "PATH COST = 4\n",
      "\n",
      "EXITED WITHOUT ERROR\n"
     ]
    }
   ],
   "source": [
    "import importlib\n",
    "import functions as functions\n",
    "from functions import *\n",
    "importlib.reload(functions)\n",
    "\n",
    "solution = WaterPouringSolution.breadth_first()\n",
    "\n",
    "if solution != -1:\n",
    "    print(\"SOLUTION PATH\")\n",
    "    state_num = 1\n",
    "    for state in solution[0]:\n",
    "        print(f\"State #{state_num}: {state}\")\n",
    "        state_num += 1\n",
    "    print(\"\")\n",
    "    print(f\"ALGO COST = {solution[1]}\")\n",
    "    print(f\"PATH COST = {solution[0][-1].path_cost}\")\n",
    "\n",
    "print(\"\")\n",
    "print(\"EXITED WITHOUT ERROR\")"
   ]
  },
  {
   "attachments": {},
   "cell_type": "markdown",
   "metadata": {},
   "source": [
    "# 3.a.ii. - Depth First Search"
   ]
  },
  {
   "cell_type": "code",
   "execution_count": 429,
   "metadata": {},
   "outputs": [
    {
     "name": "stdout",
     "output_type": "stream",
     "text": [
      "SOLUTION PATH\n",
      "State #1: [3, 1]\n",
      "State #2: [3, 0]\n",
      "State #3: [2, 1]\n",
      "State #4: [2, 0]\n",
      "State #5: [1, 1]\n",
      "\n",
      "ALGO COST = 4\n",
      "PATH COST = 4\n",
      "\n",
      "EXITED WITHOUT ERROR\n"
     ]
    }
   ],
   "source": [
    "import importlib\n",
    "import functions as functions\n",
    "from functions import *\n",
    "importlib.reload(functions)\n",
    "\n",
    "solution = WaterPouringSolution.depth_first()\n",
    "print(\"SOLUTION PATH\")\n",
    "state_num = 1\n",
    "for state in solution[0]:\n",
    "    print(f\"State #{state_num}: {state}\")\n",
    "    state_num += 1\n",
    "print(\"\")\n",
    "print(f\"ALGO COST = {solution[1]}\")\n",
    "print(f\"PATH COST = {solution[0][-1].path_cost}\")\n",
    "\n",
    "print(\"\")\n",
    "print(\"EXITED WITHOUT ERROR\")"
   ]
  },
  {
   "attachments": {},
   "cell_type": "markdown",
   "metadata": {},
   "source": [
    "# 3.a.iii. - Greedy Best First Search (using h)"
   ]
  },
  {
   "cell_type": "code",
   "execution_count": 430,
   "metadata": {},
   "outputs": [
    {
     "name": "stdout",
     "output_type": "stream",
     "text": [
      "SOLUTION PATH\n",
      "State #1: [3, 1]\n",
      "State #2: [3, 0]\n",
      "State #3: [2, 1]\n",
      "State #4: [2, 0]\n",
      "State #5: [1, 1]\n",
      "\n",
      "ALGO COST = 4\n",
      "PATH COST = 4\n",
      "\n",
      "EXITED WITHOUT ERROR\n"
     ]
    }
   ],
   "source": [
    "import importlib\n",
    "import functions as functions\n",
    "from functions import *\n",
    "importlib.reload(functions)\n",
    "\n",
    "solution = WaterPouringSolution.depth_first()\n",
    "print(\"SOLUTION PATH\")\n",
    "state_num = 1\n",
    "for state in solution[0]:\n",
    "    print(f\"State #{state_num}: {state}\")\n",
    "    state_num += 1\n",
    "print(\"\")\n",
    "print(f\"ALGO COST = {solution[1]}\")\n",
    "print(f\"PATH COST = {solution[0][-1].path_cost}\")\n",
    "\n",
    "print(\"\")\n",
    "print(\"EXITED WITHOUT ERROR\")"
   ]
  },
  {
   "cell_type": "code",
   "execution_count": 431,
   "metadata": {},
   "outputs": [
    {
     "name": "stdout",
     "output_type": "stream",
     "text": [
      "(0, 5)\n",
      "(1, 4)\n",
      "(2, 3)\n",
      "\n",
      "EXITED WITHOUT ERROR\n"
     ]
    }
   ],
   "source": [
    "# SAMPLE CODE HERE\n",
    "\n",
    "import importlib\n",
    "import functions as functions\n",
    "from functions import *\n",
    "importlib.reload(functions)\n",
    "\n",
    "pqueue = PriorityQueue()\n",
    "pqueue.put((0, 5))\n",
    "pqueue.put((1, 4))\n",
    "pqueue.put((2, 3))\n",
    "\n",
    "print(pqueue.get())\n",
    "print(pqueue.get())\n",
    "print(pqueue.get())\n",
    "\n",
    "print(\"\")\n",
    "print(\"EXITED WITHOUT ERROR\")"
   ]
  }
 ],
 "metadata": {
  "kernelspec": {
   "display_name": "Python 3",
   "language": "python",
   "name": "python3"
  },
  "language_info": {
   "codemirror_mode": {
    "name": "ipython",
    "version": 3
   },
   "file_extension": ".py",
   "mimetype": "text/x-python",
   "name": "python",
   "nbconvert_exporter": "python",
   "pygments_lexer": "ipython3",
   "version": "3.9.5"
  },
  "orig_nbformat": 4
 },
 "nbformat": 4,
 "nbformat_minor": 2
}
