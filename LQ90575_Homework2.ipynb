{
 "cells": [
  {
   "cell_type": "code",
   "execution_count": 83,
   "metadata": {},
   "outputs": [
    {
     "name": "stdout",
     "output_type": "stream",
     "text": [
      "X = 1 & Y = 1\n",
      "X = 0 & Y = 1\n",
      "X = 1 & Y = 0\n",
      "X = 0 & Y = 1\n",
      "X = 2 & Y = 0\n",
      "\n",
      "EXITED WITHOUT ERROR\n"
     ]
    }
   ],
   "source": [
    "import importlib\n",
    "import functions as functions\n",
    "from functions import *\n",
    "importlib.reload(functions)\n",
    "\n",
    "s1 = waterState(3, 1) # Heuristic = 2\n",
    "s2 = waterState(1, 1) # Heuristic = 0\n",
    "s3 = waterState(2, 0) # Heuristic = 2\n",
    "s4 = waterState(1, 0) # Heuristic = 1\n",
    "\n",
    "# pqueue = PriorityQueue()\n",
    "# pqueue.put(s1)\n",
    "# pqueue.put(s2)\n",
    "# pqueue.put(s3)\n",
    "# pqueue.put(s4)\n",
    "# while pqueue.qsize() > 0:\n",
    "#     print(pqueue.get())\n",
    "\n",
    "s1 = waterState(1, 1)\n",
    "print(s1)\n",
    "for state in s1.perform_all():\n",
    "    print(state)\n",
    "\n",
    "print(\"\")\n",
    "print(\"EXITED WITHOUT ERROR\")"
   ]
  }
 ],
 "metadata": {
  "kernelspec": {
   "display_name": "Python 3",
   "language": "python",
   "name": "python3"
  },
  "language_info": {
   "codemirror_mode": {
    "name": "ipython",
    "version": 3
   },
   "file_extension": ".py",
   "mimetype": "text/x-python",
   "name": "python",
   "nbconvert_exporter": "python",
   "pygments_lexer": "ipython3",
   "version": "3.9.5"
  },
  "orig_nbformat": 4
 },
 "nbformat": 4,
 "nbformat_minor": 2
}
