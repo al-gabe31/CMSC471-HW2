{
 "cells": [
  {
   "attachments": {},
   "cell_type": "markdown",
   "metadata": {},
   "source": [
    "# 3.a.i - Breadth First Search"
   ]
  },
  {
   "cell_type": "code",
   "execution_count": 325,
   "metadata": {},
   "outputs": [
    {
     "name": "stdout",
     "output_type": "stream",
     "text": [
      "SOLUTION PATH\n",
      "State #1: [2, 1]\n",
      "State #2: [2, 0]\n",
      "State #3: [1, 1]\n",
      "\n",
      "COST = 11\n",
      "\n",
      "EXITED WITHOUT ERROR\n"
     ]
    }
   ],
   "source": [
    "import importlib\n",
    "import functions as functions\n",
    "from functions import *\n",
    "importlib.reload(functions)\n",
    "\n",
    "solution = WaterPouringSolution.breadth_first()\n",
    "print(\"SOLUTION PATH\")\n",
    "state_num = 1\n",
    "for state in solution[0]:\n",
    "    print(f\"State #{state_num}: {state}\")\n",
    "    state_num += 1\n",
    "print(\"\")\n",
    "print(f\"COST = {solution[1]}\")\n",
    "\n",
    "print(\"\")\n",
    "print(\"EXITED WITHOUT ERROR\")"
   ]
  },
  {
   "attachments": {},
   "cell_type": "markdown",
   "metadata": {},
   "source": [
    "# 3.a.ii. - Depth First Search"
   ]
  },
  {
   "cell_type": "code",
   "execution_count": 326,
   "metadata": {},
   "outputs": [
    {
     "name": "stdout",
     "output_type": "stream",
     "text": [
      "SOLUTION PATH\n",
      "State #1: [2, 1]\n",
      "State #2: [2, 0]\n",
      "State #3: [1, 1]\n",
      "\n",
      "COST = 4\n",
      "\n",
      "EXITED WITHOUT ERROR\n"
     ]
    }
   ],
   "source": [
    "import importlib\n",
    "import functions as functions\n",
    "from functions import *\n",
    "importlib.reload(functions)\n",
    "\n",
    "solution = WaterPouringSolution.depth_first()\n",
    "print(\"SOLUTION PATH\")\n",
    "state_num = 1\n",
    "for state in solution[0]:\n",
    "    print(f\"State #{state_num}: {state}\")\n",
    "    state_num += 1\n",
    "print(\"\")\n",
    "print(f\"COST = {solution[1]}\")\n",
    "\n",
    "print(\"\")\n",
    "print(\"EXITED WITHOUT ERROR\")"
   ]
  },
  {
   "attachments": {},
   "cell_type": "markdown",
   "metadata": {},
   "source": [
    "# 3.a.iii. - Greedy Best First Search (using h)"
   ]
  },
  {
   "cell_type": "code",
   "execution_count": 327,
   "metadata": {},
   "outputs": [
    {
     "name": "stdout",
     "output_type": "stream",
     "text": [
      "SOLUTION PATH\n",
      "State #1: [2, 1]\n",
      "State #2: [2, 0]\n",
      "State #3: [1, 1]\n",
      "\n",
      "COST = 4\n",
      "\n",
      "EXITED WITHOUT ERROR\n"
     ]
    }
   ],
   "source": [
    "import importlib\n",
    "import functions as functions\n",
    "from functions import *\n",
    "importlib.reload(functions)\n",
    "\n",
    "solution = WaterPouringSolution.depth_first()\n",
    "print(\"SOLUTION PATH\")\n",
    "state_num = 1\n",
    "for state in solution[0]:\n",
    "    print(f\"State #{state_num}: {state}\")\n",
    "    state_num += 1\n",
    "print(\"\")\n",
    "print(f\"COST = {solution[1]}\")\n",
    "\n",
    "print(\"\")\n",
    "print(\"EXITED WITHOUT ERROR\")"
   ]
  },
  {
   "cell_type": "code",
   "execution_count": 328,
   "metadata": {},
   "outputs": [
    {
     "name": "stdout",
     "output_type": "stream",
     "text": [
      "[0, 1]\n",
      "[3, 1]\n",
      "[3, 1]\n",
      "[3, 1]\n",
      "[3, 0]\n",
      "\n",
      "EXITED WITHOUT ERROR\n"
     ]
    }
   ],
   "source": [
    "# SAMPLE CODE HERE\n",
    "\n",
    "import importlib\n",
    "import functions as functions\n",
    "from functions import *\n",
    "importlib.reload(functions)\n",
    "\n",
    "pqueue = PriorityQueue()\n",
    "s1 = waterState(3, 1)\n",
    "\n",
    "pqueue.put(s1)\n",
    "for state in s1.perform_all():\n",
    "    pqueue.put(state)\n",
    "\n",
    "while pqueue.qsize() > 0:\n",
    "    print(pqueue.get())\n",
    "\n",
    "print(\"\")\n",
    "print(\"EXITED WITHOUT ERROR\")"
   ]
  }
 ],
 "metadata": {
  "kernelspec": {
   "display_name": "Python 3",
   "language": "python",
   "name": "python3"
  },
  "language_info": {
   "codemirror_mode": {
    "name": "ipython",
    "version": 3
   },
   "file_extension": ".py",
   "mimetype": "text/x-python",
   "name": "python",
   "nbconvert_exporter": "python",
   "pygments_lexer": "ipython3",
   "version": "3.9.5"
  },
  "orig_nbformat": 4
 },
 "nbformat": 4,
 "nbformat_minor": 2
}
