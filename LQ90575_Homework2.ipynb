{
 "cells": [
  {
   "attachments": {},
   "cell_type": "markdown",
   "metadata": {},
   "source": [
    "# 3.a.i - Breadth First Search"
   ]
  },
  {
   "cell_type": "code",
   "execution_count": 63,
   "metadata": {},
   "outputs": [
    {
     "name": "stdout",
     "output_type": "stream",
     "text": [
      "SOLUTION PATH\n",
      "State #1: [3, 1]\n",
      "State #2: [3, 0]\n",
      "State #3: [2, 1]\n",
      "State #4: [2, 0]\n",
      "State #5: [1, 1]\n",
      "\n",
      "ALGO COST = 16\n",
      "PATH COST = 4\n",
      "\n",
      "EXITED WITHOUT ERROR\n"
     ]
    }
   ],
   "source": [
    "import importlib\n",
    "import functions as functions\n",
    "from functions import *\n",
    "importlib.reload(functions)\n",
    "\n",
    "solution = WaterPouringSolution.breadth_first()\n",
    "\n",
    "if solution != -1:\n",
    "    print(\"SOLUTION PATH\")\n",
    "    state_num = 1\n",
    "    for state in solution[0]:\n",
    "        print(f\"State #{state_num}: {state}\")\n",
    "        state_num += 1\n",
    "    print(\"\")\n",
    "    print(f\"ALGO COST = {solution[1]}\")\n",
    "    print(f\"PATH COST = {solution[0][-1].path_cost}\")\n",
    "\n",
    "print(\"\")\n",
    "print(\"EXITED WITHOUT ERROR\")"
   ]
  },
  {
   "attachments": {},
   "cell_type": "markdown",
   "metadata": {},
   "source": [
    "# 3.a.ii. - Depth First Search"
   ]
  },
  {
   "cell_type": "code",
   "execution_count": 64,
   "metadata": {},
   "outputs": [
    {
     "name": "stdout",
     "output_type": "stream",
     "text": [
      "SOLUTION PATH\n",
      "State #1: [3, 1]\n",
      "State #2: [3, 0]\n",
      "State #3: [2, 1]\n",
      "State #4: [2, 0]\n",
      "State #5: [1, 1]\n",
      "\n",
      "ALGO COST = 4\n",
      "PATH COST = 4\n",
      "\n",
      "EXITED WITHOUT ERROR\n"
     ]
    }
   ],
   "source": [
    "import importlib\n",
    "import functions as functions\n",
    "from functions import *\n",
    "importlib.reload(functions)\n",
    "\n",
    "solution = WaterPouringSolution.depth_first()\n",
    "\n",
    "if solution != -1:\n",
    "    print(\"SOLUTION PATH\")\n",
    "    state_num = 1\n",
    "    for state in solution[0]:\n",
    "        print(f\"State #{state_num}: {state}\")\n",
    "        state_num += 1\n",
    "    print(\"\")\n",
    "    print(f\"ALGO COST = {solution[1]}\")\n",
    "    print(f\"PATH COST = {solution[0][-1].path_cost}\")\n",
    "\n",
    "print(\"\")\n",
    "print(\"EXITED WITHOUT ERROR\")"
   ]
  },
  {
   "attachments": {},
   "cell_type": "markdown",
   "metadata": {},
   "source": [
    "# 3.a.iii. - Greedy Best First Search (using h)"
   ]
  },
  {
   "cell_type": "code",
   "execution_count": 65,
   "metadata": {},
   "outputs": [
    {
     "name": "stdout",
     "output_type": "stream",
     "text": [
      "SOLUTION PATH\n",
      "State #1: [3, 1]\n",
      "State #2: [3, 0]\n",
      "State #3: [2, 1]\n",
      "State #4: [2, 0]\n",
      "State #5: [1, 1]\n",
      "\n",
      "ALGO COST = 9\n",
      "PATH COST = 4\n",
      "\n",
      "EXITED WITHOUT ERROR\n"
     ]
    }
   ],
   "source": [
    "import importlib\n",
    "import functions as functions\n",
    "from functions import *\n",
    "importlib.reload(functions)\n",
    "\n",
    "solution = WaterPouringSolution.best_first()\n",
    "\n",
    "if solution != -1:\n",
    "    print(\"SOLUTION PATH\")\n",
    "    state_num = 1\n",
    "    for state in solution[0]:\n",
    "        print(f\"State #{state_num}: {state}\")\n",
    "        state_num += 1\n",
    "    print(\"\")\n",
    "    print(f\"ALGO COST = {solution[1]}\")\n",
    "    print(f\"PATH COST = {solution[0][-1].path_cost}\")\n",
    "\n",
    "print(\"\")\n",
    "print(\"EXITED WITHOUT ERROR\")"
   ]
  },
  {
   "attachments": {},
   "cell_type": "markdown",
   "metadata": {},
   "source": [
    "# 3.a.iv. - A/A* Search (using h)"
   ]
  },
  {
   "cell_type": "code",
   "execution_count": 66,
   "metadata": {},
   "outputs": [
    {
     "name": "stdout",
     "output_type": "stream",
     "text": [
      "SOLUTION PATH\n",
      "State #1: [3, 1]\n",
      "State #2: [3, 0]\n",
      "State #3: [2, 1]\n",
      "State #4: [2, 0]\n",
      "State #5: [1, 1]\n",
      "\n",
      "ALGO COST = 9\n",
      "PATH COST = 4\n",
      "\n",
      "EXITED WITHOUT ERROR\n"
     ]
    }
   ],
   "source": [
    "import importlib\n",
    "import functions as functions\n",
    "from functions import *\n",
    "importlib.reload(functions)\n",
    "\n",
    "solution = WaterPouringSolution.a_search()\n",
    "\n",
    "if solution != -1:\n",
    "    print(\"SOLUTION PATH\")\n",
    "    state_num = 1\n",
    "    for state in solution[0]:\n",
    "        print(f\"State #{state_num}: {state}\")\n",
    "        state_num += 1\n",
    "    print(\"\")\n",
    "    print(f\"ALGO COST = {solution[1]}\")\n",
    "    print(f\"PATH COST = {solution[0][-1].path_cost}\")\n",
    "\n",
    "print(\"\")\n",
    "print(\"EXITED WITHOUT ERROR\")"
   ]
  },
  {
   "attachments": {},
   "cell_type": "markdown",
   "metadata": {},
   "source": [
    "# 3.b Comparing the Costs of the Paths\n",
    "\n",
    "The path cost to the solution for all algorithms is the same with 4 units of execution. The reason why this is the case is because there is really only 1 sequence to get from the start state to the goal state.\n",
    "[3, 1] --> [3, 0] --> [2, 1] --> [2, 0] --> [1, 1]\n",
    "\n",
    "Any deviation from this sequence won't ever lead to the goal state. Therefore, all solution paths obtained in each algorithm should have the same cost (4).\n",
    "\n",
    "What's different however is the algorithm runtime cost. Based on the result, it seems like DFS was the fastest, followed by Best First & A/A* equally, and BFS being the slowest. Although it's important to keep in mind that the runtime cost for DFS heavily relies on what order we add states to the frontier. To make DFS run the fastest, we'd have to make it so that the most optimal action gets added to the frontier (stack) last. That way, that optimal action is the next state to be popped off of the frontier (stack)."
   ]
  },
  {
   "cell_type": "code",
   "execution_count": 67,
   "metadata": {},
   "outputs": [
    {
     "name": "stdout",
     "output_type": "stream",
     "text": [
      "\n",
      "EXITED WITHOUT ERROR\n"
     ]
    }
   ],
   "source": [
    "# SAMPLE CODE HERE\n",
    "\n",
    "import importlib\n",
    "import functions as functions\n",
    "from functions import *\n",
    "importlib.reload(functions)\n",
    "\n",
    "pq1 = PriorityQueue()\n",
    "\n",
    "print(\"\")\n",
    "print(\"EXITED WITHOUT ERROR\")"
   ]
  }
 ],
 "metadata": {
  "kernelspec": {
   "display_name": "Python 3",
   "language": "python",
   "name": "python3"
  },
  "language_info": {
   "codemirror_mode": {
    "name": "ipython",
    "version": 3
   },
   "file_extension": ".py",
   "mimetype": "text/x-python",
   "name": "python",
   "nbconvert_exporter": "python",
   "pygments_lexer": "ipython3",
   "version": "3.9.5"
  },
  "orig_nbformat": 4
 },
 "nbformat": 4,
 "nbformat_minor": 2
}
